{
 "cells": [
  {
   "cell_type": "markdown",
   "metadata": {},
   "source": [
    "## 调度器\n",
    "\n",
    "调度器将函数内的任务调度到指定时间执行，或者定期执行重复性工作。这里介绍使用schedule和apschedule模块的方法，可以在notebook内使用。"
   ]
  },
  {
   "cell_type": "markdown",
   "metadata": {},
   "source": [
    "### 1、使用schedule\n",
    "- 安装：pip install schedule"
   ]
  },
  {
   "cell_type": "code",
   "execution_count": 1,
   "metadata": {},
   "outputs": [],
   "source": [
    "import datetime\n",
    "import schedule\n",
    "import time\n",
    "\n",
    "def func():\n",
    "    now = datetime.datetime.now()\n",
    "    ts = now.strftime('%Y-%m-%d %H:%M:%S')\n",
    "    print('do func time :',ts)\n",
    "\n",
    "def func2():\n",
    "    now = datetime.datetime.now()\n",
    "    ts = now.strftime('%Y-%m-%d %H:%M:%S')\n",
    "    print('do func2 time：',ts)"
   ]
  },
  {
   "cell_type": "code",
   "execution_count": 4,
   "metadata": {},
   "outputs": [],
   "source": [
    "def tasklist():\n",
    "    #清空任务\n",
    "    schedule.clear()\n",
    "\n",
    "    #创建一个按秒间隔执行任务\n",
    "    schedule.every(1).seconds.do(func)\n",
    "\n",
    "    #创建一个按2秒间隔执行任务\n",
    "    schedule.every(3).seconds.do(func2)\n",
    "\n",
    "    #执行10S\n",
    "    for i in range(5):\n",
    "        print(\"第\",i,\"次：\")\n",
    "        schedule.run_pending()\n",
    "        time.sleep(1)"
   ]
  },
  {
   "cell_type": "code",
   "execution_count": 5,
   "metadata": {},
   "outputs": [
    {
     "name": "stdout",
     "output_type": "stream",
     "text": [
      "第 0 次：\n",
      "第 1 次：\n",
      "do func time : 2020-02-26 20:49:31\n",
      "第 2 次：\n",
      "do func time : 2020-02-26 20:49:32\n",
      "第 3 次：\n",
      "do func2 time： 2020-02-26 20:49:33\n",
      "do func time : 2020-02-26 20:49:33\n",
      "第 4 次：\n",
      "do func time : 2020-02-26 20:49:34\n"
     ]
    }
   ],
   "source": [
    "tasklist()"
   ]
  },
  {
   "cell_type": "markdown",
   "metadata": {},
   "source": [
    "### 2、使用apscheduler\n",
    "- 安装：pip install apscheduler\n",
    "- 参考：https://www.cnblogs.com/ohyb/p/9084011.html"
   ]
  },
  {
   "cell_type": "code",
   "execution_count": 16,
   "metadata": {},
   "outputs": [],
   "source": [
    "import time\n",
    "from apscheduler.schedulers.blocking import BlockingScheduler\n",
    "from apscheduler.schedulers.background import BackgroundScheduler\n",
    "\n",
    "def func():\n",
    "    now = datetime.datetime.now()\n",
    "    ts = now.strftime('%Y-%m-%d %H:%M:%S')\n",
    "    print(ts,'do func time ')\n",
    "\n",
    "def func2():\n",
    "    #耗时2S\n",
    "    now = datetime.datetime.now()\n",
    "    ts = now.strftime('%Y-%m-%d %H:%M:%S')\n",
    "    print(ts,'do func2 time')\n",
    "    \n",
    "    time.sleep(2)"
   ]
  },
  {
   "cell_type": "code",
   "execution_count": 27,
   "metadata": {},
   "outputs": [],
   "source": [
    "import pprint\n",
    "\n",
    "def dojob():\n",
    "    #创建调度器：BlockingScheduler\n",
    "    #scheduler = BlockingScheduler()\n",
    "    scheduler = BackgroundScheduler()\n",
    "    \n",
    "    #添加任务,时间间隔2S\n",
    "    job1 = scheduler.add_job(func, 'interval', seconds=2, id='test_job1')\n",
    "\n",
    "    #添加任务,时间间隔5S\n",
    "    job2 = scheduler.add_job(func2, 'interval', seconds=3, id='test_job2')\n",
    "\n",
    "    print(\"任务列表：\")\n",
    "    pprint.pprint(scheduler.get_jobs())\n",
    "    \n",
    "    scheduler.start()\n",
    "    print(\"启动任务：\")\n",
    "\n",
    "    time.sleep(4)\n",
    "    print(\"停止job1...\")\n",
    "    job1.remove()\n",
    "    \n",
    "    time.sleep(6)\n",
    "    print(\"停止job2...\")    \n",
    "    job2.remove()"
   ]
  },
  {
   "cell_type": "code",
   "execution_count": 28,
   "metadata": {},
   "outputs": [
    {
     "name": "stdout",
     "output_type": "stream",
     "text": [
      "任务列表：\n",
      "[<Job (id=test_job1 name=func)>, <Job (id=test_job2 name=func2)>]\n",
      "启动任务：\n",
      "2020-02-26 21:48:01 do func time \n",
      "2020-02-26 21:48:02 do func2 time\n",
      "2020-02-26 21:48:03 do func time \n",
      "停止job1...\n",
      "2020-02-26 21:48:05 do func2 time\n",
      "2020-02-26 21:48:08 do func2 time\n",
      "停止job2...\n"
     ]
    }
   ],
   "source": [
    "dojob()"
   ]
  },
  {
   "cell_type": "code",
   "execution_count": null,
   "metadata": {},
   "outputs": [],
   "source": []
  }
 ],
 "metadata": {
  "kernelspec": {
   "display_name": "Python 3",
   "language": "python",
   "name": "python3"
  },
  "language_info": {
   "codemirror_mode": {
    "name": "ipython",
    "version": 3
   },
   "file_extension": ".py",
   "mimetype": "text/x-python",
   "name": "python",
   "nbconvert_exporter": "python",
   "pygments_lexer": "ipython3",
   "version": "3.6.9"
  }
 },
 "nbformat": 4,
 "nbformat_minor": 4
}
