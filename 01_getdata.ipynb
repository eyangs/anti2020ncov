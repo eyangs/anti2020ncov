{
 "cells": [
  {
   "cell_type": "code",
   "execution_count": 51,
   "metadata": {},
   "outputs": [],
   "source": [
    "# default_exp getdata\n",
    "# 上面一行用于nbdev中声明本模块的名称。必须是notebook的第一个Cell的第一行。"
   ]
  },
  {
   "cell_type": "markdown",
   "metadata": {},
   "source": [
    "# getdata\n",
    "\n",
    "- 描述：抗击新冠病毒（4）-获取并保存在线数据\n",
    "- 功能：获取数据,转换为列表格式,保存到*.csv文件,用于后续的分析和绘图输出。\n",
    "- 模块：使用JupyterLab、Python、nbdev等完成。用到的Python模块包括：\n",
    "  - requests，访问web服务网站。\n",
    "  - re，正则表达式解析。\n",
    "  - json，JSON格式解析。\n",
    "  - BeautifulSoup，HTML格式解析。\n",
    "  - pprint，格式化输出。\n",
    "  - pandas，数据表格分析。\n",
    "- [源码-https://github.com/openthings/anti2020ncov](https://github.com/openthings/anti2020ncov)\n",
    "- 参考：\n",
    "  - [JupyterLab-数据实验室](https://my.oschina.net/u/2306127?q=jupyterlab)\n",
    "  - [文学式编程-nbdev入门教程](https://my.oschina.net/u/2306127/blog/3163740)\n",
    "  - [抗击新冠病毒（1）-开源软件与数据项目](https://my.oschina.net/u/2306127/blog/3162141)\n",
    "  - [抗击新冠病毒（2）-基于Jupyter+nbdev的数据分析](https://my.oschina.net/u/2306127/blog/3164083)\n",
    "  - [抗击新冠病毒（3）-探索在线数据资源](https://my.oschina.net/u/2306127/blog/3164744)"
   ]
  },
  {
   "cell_type": "code",
   "execution_count": null,
   "metadata": {},
   "outputs": [],
   "source": [
    "#hide\n",
    "from nbdev.showdoc import *"
   ]
  },
  {
   "cell_type": "code",
   "execution_count": 28,
   "metadata": {},
   "outputs": [],
   "source": [
    "#export \n",
    "from bs4 import BeautifulSoup\n",
    "from parser import * #regex_parser\n",
    "import re\n",
    "import json\n",
    "import time\n",
    "import logging\n",
    "import datetime\n",
    "import requests\n",
    "import pprint "
   ]
  },
  {
   "cell_type": "markdown",
   "metadata": {},
   "source": [
    "#### 预设网络地址和创建请求头。\n",
    "* 丁香园-新型冠状病毒肺炎疫情实时动态，https://ncov.dxy.cn/ncovh5/view/pneumonia?from=singlemessage&isappinstalled=0\n",
    "* 中国疾控中心，http://www.chinacdc.cn, 分布图 http://2019ncov.chinacdc.cn/2019-nCoV/\n",
    "* 全国卫健委-新型冠状病毒肺炎疫情防控，http://www.nhc.gov.cn/xcs/xxgzbd/gzbd_index.shtml\n",
    "* 全国卫健委-官方网站，http://www.nhc.gov.cn\n",
    "* 世界卫生组织（WHO），https://www.who.int/zh"
   ]
  },
  {
   "cell_type": "code",
   "execution_count": 49,
   "metadata": {},
   "outputs": [],
   "source": [
    "# export \n",
    "# 使用丁香园的数据。\n",
    "url = \"https://ncov.dxy.cn/ncovh5/view/pneumonia?from=singlemessage&isappinstalled=0\"\n",
    "headers = {\n",
    "    'user-agent': 'Mozilla/5.0 (Macintosh; Intel Mac OS X 10_15_2) AppleWebKit/537.36 (KHTML, like Gecko) Chrome/79.0.3945.117 Safari/537.36'\n",
    "}\n",
    "\n",
    "#保存的文件名。\n",
    "dateof = '20200207'"
   ]
  },
  {
   "cell_type": "markdown",
   "metadata": {},
   "source": [
    "#### 从Web服务获取网页，并解析为JSON格式。\n",
    "- [Python之json使用](https://www.cnblogs.com/yanwuliu/p/9593826.html)"
   ]
  },
  {
   "cell_type": "code",
   "execution_count": 30,
   "metadata": {},
   "outputs": [],
   "source": [
    "#export \n",
    "\n",
    "def getweb():\n",
    "    session = requests.session()\n",
    "    session.headers.update(headers)\n",
    "    r = session.get(url)\n",
    "    soup = BeautifulSoup(r.content, 'lxml')\n",
    "\n",
    "    #获取省市数据。\n",
    "    area_information = re.search(r'\\[(.*)\\]', str(soup.find('script', attrs={'id': 'getAreaStat'})))\n",
    "    area = json.loads(area_information.group(0))\n",
    "    return area"
   ]
  },
  {
   "cell_type": "markdown",
   "metadata": {},
   "source": [
    "#### 保存分省的数据到data/prov_日期.csv文件。"
   ]
  },
  {
   "cell_type": "code",
   "execution_count": 31,
   "metadata": {},
   "outputs": [],
   "source": [
    "# export \n",
    "# 写入文件，分省数据。\n",
    "def saveprovice(area):\n",
    "    fprovince = \"data/\" + \"prov_\" + dateof + \".csv\"\n",
    "    fp = open(fprovince, \"w\")\n",
    "    fp.write(\"省份,确诊,疑似,治愈,死亡\\r\")\n",
    "    for a in area:\n",
    "        fp.write(a['provinceName']+','+ \\\n",
    "                 str(a['confirmedCount'])+','+ \\\n",
    "                 str(a['suspectedCount'])+','+ \\\n",
    "                 str(a['curedCount'])+','+ \\\n",
    "                 str(a['deadCount'])+ '\\r')\n",
    "    fp.close()\n",
    "    print(\"writed to \"+ fprovince + \"\\r\\n\")"
   ]
  },
  {
   "cell_type": "markdown",
   "metadata": {},
   "source": [
    "#### 保存分市的数据到文件 data/city_日期.csv。"
   ]
  },
  {
   "cell_type": "code",
   "execution_count": 50,
   "metadata": {},
   "outputs": [],
   "source": [
    "# export\n",
    "# 写入文件，分市数据。\n",
    "def savecity(area):\n",
    "    fcity = \"data/\" + \"city_\" + dateof + \".csv\"\n",
    "    fc = open(fcity, \"w\")\n",
    "    fc.write(\"省份,城市,确诊,疑似,治愈,死亡\\r\")\n",
    "    for p in area:\n",
    "        cities = p['cities']\n",
    "        for c in cities:\n",
    "            fc.write(p['provinceName']+','+ \\\n",
    "                     c['cityName']+','+ \\\n",
    "                     str(c['confirmedCount'])+','+ \\\n",
    "                     str(c['suspectedCount'])+','+ \\\n",
    "                     str(c['curedCount'])+','+ \\\n",
    "                     str(c['deadCount'])+'\\r')\n",
    "    fc.close()\n",
    "    print(\"writed to \"+ fcity + \"\\r\\n\")"
   ]
  },
  {
   "cell_type": "markdown",
   "metadata": {},
   "source": [
    "#### 查看保存的文件。\n",
    "这里用到Notebook的魔法操作符，参考：\n",
    "- [IPython 6/Jupyter的magic操作符](https://my.oschina.net/u/2306127/blog/3019986)\n",
    "- [IPython的Magics魔法操作符](https://my.oschina.net/u/2306127/blog/668079)"
   ]
  },
  {
   "cell_type": "code",
   "execution_count": 48,
   "metadata": {},
   "outputs": [
    {
     "name": "stdout",
     "output_type": "stream",
     "text": [
      "总用量 176\n",
      "-rw-r--r-- 1 supermap supermap   1445 2月   9 22:49 china.csv\n",
      "-rw-r--r-- 1 supermap supermap  11840 2月   7 23:02 city_20200207.csv\n",
      "-rw-r--r-- 1 supermap supermap  12156 2月   8 18:39 city_20200208.csv\n",
      "-rw-r--r-- 1 supermap supermap  12169 2月  10 18:20 city_20200209.csv\n",
      "-rw-r--r-- 1 supermap supermap 126285 2月   9 15:09 IMG_7082.JPG\n",
      "-rw-r--r-- 1 supermap supermap    780 2月   7 23:02 prov_20200207.csv\n",
      "-rw-r--r-- 1 supermap supermap    784 2月   8 18:39 prov_20200208.csv\n",
      "-rw-r--r-- 1 supermap supermap    790 2月  10 18:20 prov_20200209.csv\n"
     ]
    }
   ],
   "source": [
    "!ls -l data"
   ]
  },
  {
   "cell_type": "markdown",
   "metadata": {},
   "source": [
    "## nbdev 适用工具"
   ]
  },
  {
   "cell_type": "code",
   "execution_count": 46,
   "metadata": {},
   "outputs": [
    {
     "name": "stdout",
     "output_type": "stream",
     "text": [
      "Converted 00_digdata.ipynb.\n",
      "Converted 01_getdata.ipynb.\n",
      "Converted 10_charts.ipynb.\n",
      "Converted 10_china.ipynb.\n",
      "Converted index.ipynb.\n"
     ]
    }
   ],
   "source": [
    "# 将notebook转化为python的*.py代码，保存到项目名称的子目录中。\n",
    "\n",
    "from nbdev.export import *\n",
    "notebook2script()"
   ]
  },
  {
   "cell_type": "code",
   "execution_count": null,
   "metadata": {},
   "outputs": [],
   "source": []
  }
 ],
 "metadata": {
  "kernelspec": {
   "display_name": "Python 3",
   "language": "python",
   "name": "python3"
  },
  "language_info": {
   "codemirror_mode": {
    "name": "ipython",
    "version": 3
   },
   "file_extension": ".py",
   "mimetype": "text/x-python",
   "name": "python",
   "nbconvert_exporter": "python",
   "pygments_lexer": "ipython3",
   "version": "3.6.9"
  }
 },
 "nbformat": 4,
 "nbformat_minor": 4
}
